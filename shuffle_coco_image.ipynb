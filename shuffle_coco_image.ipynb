{
 "cells": [
  {
   "cell_type": "code",
   "execution_count": 7,
   "id": "9280e09e-73af-4430-9fba-cb4d4fabccbf",
   "metadata": {},
   "outputs": [],
   "source": [
    "import os\n",
    "import random"
   ]
  },
  {
   "cell_type": "code",
   "execution_count": 33,
   "id": "4efc3190-3817-401b-9152-01bb7010bd56",
   "metadata": {},
   "outputs": [],
   "source": [
    "coco_test_dir = \"/home/gridsan/groups/datasets/coco/test2017\"\n",
    "\n",
    "test_set = os.listdir(coco_test_dir)\n",
    "random.shuffle(test_set)\n",
    "output_dir = \"/home/gridsan/groups/RosenholtzLab/coco_testset_lists_80\"\n",
    "os.makedirs(output_dir, exist_ok=True)"
   ]
  },
  {
   "cell_type": "code",
   "execution_count": 13,
   "id": "7a278a2b-a7a0-4505-83a3-552cd9f974a8",
   "metadata": {},
   "outputs": [
    {
     "data": {
      "text/plain": [
       "['000000076635.jpg',\n",
       " '000000520056.jpg',\n",
       " '000000526520.jpg',\n",
       " '000000212064.jpg',\n",
       " '000000316546.jpg',\n",
       " '000000449135.jpg',\n",
       " '000000481277.jpg',\n",
       " '000000421928.jpg',\n",
       " '000000162816.jpg',\n",
       " '000000380627.jpg']"
      ]
     },
     "execution_count": 13,
     "metadata": {},
     "output_type": "execute_result"
    }
   ],
   "source": []
  },
  {
   "cell_type": "code",
   "execution_count": 34,
   "id": "2f2d5263-d8a5-49ea-ae13-5fccf85e2ec1",
   "metadata": {},
   "outputs": [],
   "source": [
    "\n",
    "eccentricities = ['80']\n",
    "\n",
    "for ecc in eccentricities:\n",
    "    for i in range(10):\n",
    "        j=0\n",
    "        for i,img in enumerate(test_set):\n",
    "            # img_id = img.split('.')[0]\n",
    "            if i%46 == 0:\n",
    "                j+=1\n",
    "                if ecc== '80':\n",
    "                    list_name = f\"mongrels_0{ecc}_{j}.txt\"\n",
    "                else:\n",
    "                    list_name = f\"mongrels_{ecc}_{j}.txt\"\n",
    "                text_file = open(os.path.join(output_dir,list_name), \"w\")\n",
    "            imgfile = os.path.join(coco_test_dir, img)\n",
    "            string = f'{imgfile}\\t{ecc}\\tNaN\\tcoco\\n'\n",
    "            n = text_file.write(string) \n",
    "            if i%46==45:\n",
    "                text_file.close()"
   ]
  }
 ],
 "metadata": {
  "kernelspec": {
   "display_name": "Python 3 (ipykernel)",
   "language": "python",
   "name": "python3"
  },
  "language_info": {
   "codemirror_mode": {
    "name": "ipython",
    "version": 3
   },
   "file_extension": ".py",
   "mimetype": "text/x-python",
   "name": "python",
   "nbconvert_exporter": "python",
   "pygments_lexer": "ipython3",
   "version": "3.8.13"
  }
 },
 "nbformat": 4,
 "nbformat_minor": 5
}
